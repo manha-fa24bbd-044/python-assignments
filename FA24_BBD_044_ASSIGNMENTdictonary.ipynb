{
  "nbformat": 4,
  "nbformat_minor": 0,
  "metadata": {
    "colab": {
      "provenance": []
    },
    "kernelspec": {
      "name": "python3",
      "display_name": "Python 3"
    },
    "language_info": {
      "name": "python"
    }
  },
  "cells": [
    {
      "cell_type": "code",
      "source": [
        "#Create a dictionary to store information about a person (name, age, city, hobbies).\n",
        "person = {\n",
        "    \"name\": \"manha\",\n",
        "    \"age\": 18,\n",
        "    \"city\": \"New York\",\n",
        "    \"hobbies\": [\"sketching\", \"painting\", \"baking\"]\n",
        "}\n",
        "\n",
        "print(person)"
      ],
      "metadata": {
        "colab": {
          "base_uri": "https://localhost:8080/"
        },
        "id": "ZH1MIPOaXfdS",
        "outputId": "87c8bcd6-a9c8-45aa-8dbb-916564e20296"
      },
      "execution_count": 31,
      "outputs": [
        {
          "output_type": "stream",
          "name": "stdout",
          "text": [
            "{'name': 'manha', 'age': 18, 'city': 'New York', 'hobbies': ['sketching', 'painting', 'baking']}\n"
          ]
        }
      ]
    },
    {
      "cell_type": "code",
      "source": [
        "#Write a program to count the frequency of words in a given text.\n",
        "from collections import Counter\n",
        "text=\"ever since i was a kid, ive been legit.\"\n",
        "word_counts=Counter(text.split())\n",
        "print(word_counts)\n"
      ],
      "metadata": {
        "colab": {
          "base_uri": "https://localhost:8080/"
        },
        "id": "Wtt9XPNmZh7Z",
        "outputId": "17117e1e-b2ca-409c-a285-58914990c033"
      },
      "execution_count": 33,
      "outputs": [
        {
          "output_type": "stream",
          "name": "stdout",
          "text": [
            "Counter({'ever': 1, 'since': 1, 'i': 1, 'was': 1, 'a': 1, 'kid,': 1, 'ive': 1, 'been': 1, 'legit.': 1})\n"
          ]
        }
      ]
    },
    {
      "cell_type": "code",
      "source": [
        "#Implement a simple inventory system using dictionaries.\n",
        "inventory = {'apple': 10, 'banana': 20, 'orange': 15}\n",
        "\n",
        "print(\"Number of oranges:\", inventory.get('orange', 0))\n",
        "\n",
        "for item, quantity in inventory.items():\n",
        "    print(f\"{item}: {quantity}\")"
      ],
      "metadata": {
        "colab": {
          "base_uri": "https://localhost:8080/"
        },
        "id": "B8uNfX7NaueQ",
        "outputId": "7db090cb-f808-4a6d-80fc-97c28543dbba"
      },
      "execution_count": 34,
      "outputs": [
        {
          "output_type": "stream",
          "name": "stdout",
          "text": [
            "Number of oranges: 15\n",
            "apple: 10\n",
            "banana: 20\n",
            "orange: 15\n"
          ]
        }
      ]
    },
    {
      "cell_type": "code",
      "source": [
        "# Analyze a dataset of customer orders to find the most popular product category:\n",
        "orders = [{\"order_id\": 1,\"category\": \"makeup\", \"amount\": 10},\n",
        "          {\"order_id\": 2,\"category\": \"clothing\", \"amount\": 50},\n",
        "          {\"order_id\": 3,\"category\": \"makeup\", \"amount\": 200}\n",
        "         ]\n",
        "category_count = {}\n",
        "for order in orders:\n",
        "        category = order[\"category\"]\n",
        "        if category in category_count:\n",
        "            category_count[category] += 1\n",
        "        else:\n",
        "            category_count[category] = 1\n",
        "popular_category = max(category_count, key=category_count.get)\n",
        "\n",
        "print(f\"The most popular category is: {popular_category}\")"
      ],
      "metadata": {
        "colab": {
          "base_uri": "https://localhost:8080/"
        },
        "id": "EFEJLdtGbXmZ",
        "outputId": "4cc9e85a-8bde-4d79-96cb-29bf36aba800"
      },
      "execution_count": 35,
      "outputs": [
        {
          "output_type": "stream",
          "name": "stdout",
          "text": [
            "The most popular category is: makeup\n"
          ]
        }
      ]
    },
    {
      "cell_type": "code",
      "source": [
        " #Create a dictionary to store student grades and calculate the average grade.:\n",
        "grades = {\n",
        "    \"manha\": [90, 85, 78],\n",
        "    \"hikmat\": [92, 88, 95],\n",
        "    \"anoushay\": [75, 80, 70],\n",
        "}\n",
        "def calculate_average(grades):\n",
        "    average_grades = {}\n",
        "    for student, scores in grades.items():\n",
        "        average_grades[student] = sum(scores) / len(scores)\n",
        "    return average_grades\n",
        "\n",
        "average_grades = calculate_average(grades)\n",
        "for student, avg in average_grades.items():\n",
        "    print(f\"{student}: {avg:f}\")"
      ],
      "metadata": {
        "colab": {
          "base_uri": "https://localhost:8080/"
        },
        "id": "x3Zl1q6dcTcX",
        "outputId": "f151334e-442f-4eca-8f40-73245124aa5e"
      },
      "execution_count": 37,
      "outputs": [
        {
          "output_type": "stream",
          "name": "stdout",
          "text": [
            "manha: 84.333333\n",
            "hikmat: 91.666667\n",
            "anoushay: 75.000000\n"
          ]
        }
      ]
    },
    {
      "cell_type": "code",
      "source": [
        "# Inventory Management:\n",
        "inventory = {\n",
        "    \"gloss\": { \"quantity\": 50, \"price\": 15},\n",
        "    \"blush\": { \"quantity\": 30, \"price\": 5},\n",
        "    \"bronzer\": {\"quantity\": 20, \"price\": 20}\n",
        "}\n",
        "# Function to add a new product to the inventory\n",
        "def add_product(product_id, name, quantity, price):\n",
        "    if product_id not in inventory:\n",
        "        inventory[product_id] = {\"name\": name, \"quantity\": quantity, \"price\": price}\n",
        "        print(f\"Product {name} added successfully.\")\n",
        "    else:\n",
        "        print(f\"Product {name} already exists in inventory.\")\n",
        "\n",
        "def update_quantity(product_id, quantity):\n",
        "    if product_id in inventory:\n",
        "        inventory[product_id][\"quantity\"] += quantity\n",
        "        print(f\"Quantity of {inventory[product_id]} updated to {inventory[product_id]['quantity']}.\")\n",
        "    else:\n",
        "        print(f\"Product with ID {product_id} not found.\")\n",
        "def total_inventory_value():\n",
        "    total_value = 0\n",
        "    for product in inventory.values():\n",
        "        total_value += product[\"quantity\"] * product[\"price\"]\n",
        "    return total_value\n",
        "def low_stock_report(threshold=10):\n",
        "    low_stock_items = []\n",
        "    for product in inventory.values():\n",
        "        if product[\"quantity\"] <= threshold:\n",
        "            low_stock_items.append(product[\"name\"])\n",
        "    return low_stock_items\n",
        "\n",
        "add_product(\"eyeshade\", \"\", 12, 2200)\n",
        "\n",
        "update_quantity(\"pen\", 20)\n",
        "update_quantity(\"blush\", -5)\n",
        "\n",
        "total_value = total_inventory_value()\n",
        "print(f\"Total inventory value: ${total_value:f}\")\n",
        "\n",
        "low_stock = low_stock_report()\n",
        "print(f\"Low-stock items: ()\")"
      ],
      "metadata": {
        "colab": {
          "base_uri": "https://localhost:8080/"
        },
        "id": "A7eEmkilfARi",
        "outputId": "5847384a-d1da-4495-da14-93019ee1b931"
      },
      "execution_count": 51,
      "outputs": [
        {
          "output_type": "stream",
          "name": "stdout",
          "text": [
            "Product  added successfully.\n",
            "Product with ID pen not found.\n",
            "Quantity of {'quantity': 25, 'price': 5} updated to 25.\n",
            "Total inventory value: $27675.000000\n",
            "Low-stock items: ()\n"
          ]
        }
      ]
    },
    {
      "cell_type": "code",
      "source": [
        "#Student Gradebook:\n",
        "grade={\n",
        "    \"manha\": {'maths': 98 ,'english':100},\n",
        "    \"hikmat\" : {'maths':99,'english':89}\n",
        "}\n",
        "average={}\n",
        "for student,grades in grade.items():\n",
        "    avg_grade=sum(grades.values())/len(grade)\n",
        "    print(avg_grade)\n",
        "subject=\"english\"\n",
        "highest=max(grade,key=lambda student:grade[student][subject])\n",
        "lowest=min(grade,key=lambda student:grade[student][subject])\n",
        "print(f\"highest grade are {highest} in {subject}\")\n",
        "print(f\"lowest grade are {lowest} in {subject}\")"
      ],
      "metadata": {
        "colab": {
          "base_uri": "https://localhost:8080/"
        },
        "id": "sJPyaEfAhBq5",
        "outputId": "43d44a61-cb60-406e-a11f-058653d5fec2"
      },
      "execution_count": 53,
      "outputs": [
        {
          "output_type": "stream",
          "name": "stdout",
          "text": [
            "99.0\n",
            "94.0\n",
            "highest grade are manha in english\n",
            "lowest grade are hikmat in english\n"
          ]
        }
      ]
    },
    {
      "cell_type": "code",
      "source": [],
      "metadata": {
        "id": "rjWqAOPTiEIp"
      },
      "execution_count": null,
      "outputs": []
    }
  ]
}