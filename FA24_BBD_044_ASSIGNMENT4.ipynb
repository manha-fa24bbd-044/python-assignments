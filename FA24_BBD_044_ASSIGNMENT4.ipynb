{
  "nbformat": 4,
  "nbformat_minor": 0,
  "metadata": {
    "colab": {
      "provenance": []
    },
    "kernelspec": {
      "name": "python3",
      "display_name": "Python 3"
    },
    "language_info": {
      "name": "python"
    }
  },
  "cells": [
    {
      "cell_type": "code",
      "execution_count": 1,
      "metadata": {
        "colab": {
          "base_uri": "https://localhost:8080/"
        },
        "id": "pvAi3WqXNd60",
        "outputId": "f6e66c0e-b54d-437e-ae27-6356c6bc9fb2"
      },
      "outputs": [
        {
          "output_type": "stream",
          "name": "stdout",
          "text": [
            "Hello, manha! The current time is 12:36:01.\n"
          ]
        }
      ],
      "source": [
        "# Create a function named greet_with_time that takes a name as input and prints a greeting message along with the current time\n",
        "from datetime import datetime\n",
        "def greet_with_time(name):\n",
        "    current_time = datetime.now().strftime(\"%H:%M:%S\")\n",
        "    print(f\"Hello, {name}! The current time is {current_time}.\")\n",
        "greet_with_time(\"manha\")"
      ]
    },
    {
      "cell_type": "code",
      "source": [
        "# Write a function called calculate_average that takes three numbers as input and returns their average.\n",
        "\n",
        "def calculate_average(n1, n2, n3):\n",
        "    average = (n1 + n2 + n3) / 3\n",
        "    return average\n",
        "calculate_average(40, 30, 10)"
      ],
      "metadata": {
        "colab": {
          "base_uri": "https://localhost:8080/"
        },
        "id": "A8YwWSC7OmgF",
        "outputId": "c9f77904-2a89-4f46-a1ee-960d80e38dab"
      },
      "execution_count": 2,
      "outputs": [
        {
          "output_type": "execute_result",
          "data": {
            "text/plain": [
              "26.666666666666668"
            ]
          },
          "metadata": {},
          "execution_count": 2
        }
      ]
    },
    {
      "cell_type": "code",
      "source": [
        "# Define a function calculate_discount that takes a price and a discount percentage as input. Set a default discount percentage of 10%.\n",
        "\n",
        "def calculate_discount(price, discount):\n",
        "    discounted_price =  (price * discount / 100)\n",
        "    return discounted_price\n",
        "result=calculate_discount(100,10)\n",
        "print(result)"
      ],
      "metadata": {
        "colab": {
          "base_uri": "https://localhost:8080/"
        },
        "id": "EgEit413NhCw",
        "outputId": "f6d78751-31b3-4563-8e4f-7fdde21ce278"
      },
      "execution_count": 3,
      "outputs": [
        {
          "output_type": "stream",
          "name": "stdout",
          "text": [
            "10.0\n"
          ]
        }
      ]
    },
    {
      "cell_type": "code",
      "source": [
        "# Create a function print_info that takes a name, age, and city as keyword arguments.\n",
        "\n",
        "def print_info(name, age, city):\n",
        "    print(f\"Name: {name}\")\n",
        "    print(f\"Age: {age}\")\n",
        "    print(f\"City: {city}\")\n",
        "\n",
        "print_info(name = 'manha', age = 18, city= 'isb')"
      ],
      "metadata": {
        "colab": {
          "base_uri": "https://localhost:8080/"
        },
        "id": "86SHYSXkOs3F",
        "outputId": "55972ec0-a243-4d4c-9e97-4a7e91640d34"
      },
      "execution_count": 4,
      "outputs": [
        {
          "output_type": "stream",
          "name": "stdout",
          "text": [
            "Name: manha\n",
            "Age: 18\n",
            "City: isb\n"
          ]
        }
      ]
    },
    {
      "cell_type": "code",
      "source": [
        "# Write a function find_max that can take any number of arguments and returns the maximum value.\n",
        "\n",
        "def find_max(a,b,c):\n",
        "    if a>b and a>c:\n",
        "        print(f'{a} is greatest.')\n",
        "    if b>c and b>a:\n",
        "        print(f'{b} is greatest.')\n",
        "    if c>a and c>b:\n",
        "        print(f'{c} is greatest. ')\n",
        "\n",
        "find_max(a=89,b=19,c=97)"
      ],
      "metadata": {
        "colab": {
          "base_uri": "https://localhost:8080/"
        },
        "id": "5T6mwasqOweJ",
        "outputId": "23c2d6a2-ab91-44ce-96b0-9fd8385da9ed"
      },
      "execution_count": 5,
      "outputs": [
        {
          "output_type": "stream",
          "name": "stdout",
          "text": [
            "97 is greatest. \n"
          ]
        }
      ]
    },
    {
      "cell_type": "code",
      "source": [
        "# Implement a recursive function to calculate the factorial of a number.\n",
        "def factorial(n):\n",
        "    if n==0 or n==1:\n",
        "        return 1\n",
        "    else:\n",
        "        return n*factorial(n-1)\n",
        "result=factorial(5)\n",
        "print(result)"
      ],
      "metadata": {
        "colab": {
          "base_uri": "https://localhost:8080/"
        },
        "id": "nnlW93lOO0YQ",
        "outputId": "e1756ed7-114d-4cac-c808-fd12a0ebd1f9"
      },
      "execution_count": 6,
      "outputs": [
        {
          "output_type": "stream",
          "name": "stdout",
          "text": [
            "120\n"
          ]
        }
      ]
    },
    {
      "cell_type": "code",
      "source": [
        "# Define a function apply_function that takes a function and a list of numbers as input. Apply the function to each number in the list and return a new list with the results.\n",
        "\n",
        "def apply_function(func,number_list):\n",
        "    return [func(num) for num in number_list]\n",
        "\n",
        "def square(x):\n",
        "    return x * x\n",
        "\n",
        "number_list = [2, 3, 4]\n",
        "result=apply_function(square,number_list)\n",
        "print(result)"
      ],
      "metadata": {
        "colab": {
          "base_uri": "https://localhost:8080/"
        },
        "id": "MRHRXba0O3u8",
        "outputId": "5d05549f-60e2-4f4b-e483-a92f46750a1d"
      },
      "execution_count": 7,
      "outputs": [
        {
          "output_type": "stream",
          "name": "stdout",
          "text": [
            "[4, 9, 16]\n"
          ]
        }
      ]
    },
    {
      "cell_type": "code",
      "source": [
        "# Create a lambda function to square a number.\n",
        "\n",
        "square = lambda x: x * x\n",
        "\n",
        "square(2)"
      ],
      "metadata": {
        "colab": {
          "base_uri": "https://localhost:8080/"
        },
        "id": "6xf4fqV4O7m3",
        "outputId": "66fb56e4-59b2-458a-9684-bde5305f1ff5"
      },
      "execution_count": 8,
      "outputs": [
        {
          "output_type": "execute_result",
          "data": {
            "text/plain": [
              "4"
            ]
          },
          "metadata": {},
          "execution_count": 8
        }
      ]
    },
    {
      "cell_type": "code",
      "source": [
        "#Write a function apply_operation that takes a function and a list of numbers. Apply the function to each number and return a new list.\n",
        "def apply_operation(func,numbers):\n",
        "    return [func(num) for num in numbers]\n",
        "\n",
        "def double(x):\n",
        "    return x*2\n",
        "numbers=[1,2,3]\n",
        "result=apply_operation(double,numbers)\n",
        "print(result)"
      ],
      "metadata": {
        "colab": {
          "base_uri": "https://localhost:8080/"
        },
        "id": "sz1wKg8XO-sT",
        "outputId": "f1faca0f-2138-407a-a34b-ba5c2ab1d53b"
      },
      "execution_count": 9,
      "outputs": [
        {
          "output_type": "stream",
          "name": "stdout",
          "text": [
            "[2, 4, 6]\n"
          ]
        }
      ]
    },
    {
      "cell_type": "code",
      "source": [],
      "metadata": {
        "id": "53WWsztmPBct"
      },
      "execution_count": null,
      "outputs": []
    }
  ]
}