{
  "nbformat": 4,
  "nbformat_minor": 0,
  "metadata": {
    "colab": {
      "provenance": []
    },
    "kernelspec": {
      "name": "python3",
      "display_name": "Python 3"
    },
    "language_info": {
      "name": "python"
    }
  },
  "cells": [
    {
      "cell_type": "code",
      "source": [
        "#Question 1\n",
        "# Create a class Person with attributes name, age, and city.\n",
        "class Person:\n",
        "    def __init__(self,name,age,city):\n",
        "        self.name=name\n",
        "        self.age=age\n",
        "        self.city=city\n",
        "person=Person(\"Manha\",18,\"lahore\")\n",
        "print(person.name)\n",
        "print(person.age)\n",
        "print(person.city)\n",
        "\n"
      ],
      "metadata": {
        "colab": {
          "base_uri": "https://localhost:8080/"
        },
        "id": "1A4d3z5RQlpl",
        "outputId": "e18b0bd9-bf66-4bef-d87b-5ed84687ce7c"
      },
      "execution_count": 13,
      "outputs": [
        {
          "output_type": "stream",
          "name": "stdout",
          "text": [
            "Manha\n",
            "18\n",
            "lahore\n"
          ]
        }
      ]
    },
    {
      "cell_type": "code",
      "source": [
        "\n",
        "#Question 2\n",
        "#Create a class Car with attributes make, model, and year.\n",
        "class car:\n",
        "    def __init__(self,make,model,year):\n",
        "        self.make=make\n",
        "        self.model=model\n",
        "        self.year=year\n",
        "my_car=car(\"tesla\",\"Cybertruck\",2024)\n",
        "print(my_car.make)\n",
        "print(my_car.model)\n",
        "print(my_car.year)"
      ],
      "metadata": {
        "colab": {
          "base_uri": "https://localhost:8080/"
        },
        "id": "uYbRG4aaRR3a",
        "outputId": "194b8990-3a3f-440b-99cc-da4596dc5c8e"
      },
      "execution_count": 14,
      "outputs": [
        {
          "output_type": "stream",
          "name": "stdout",
          "text": [
            "tesla\n",
            "Cybertruck\n",
            "2024\n"
          ]
        }
      ]
    },
    {
      "cell_type": "code",
      "source": [
        "#Create a class Rectangle with attributes length and width and methods to calculate area and perimeter.\n",
        "import math\n",
        "class Rectangle:\n",
        "    def __init__(self,length,width):\n",
        "        self.length=length\n",
        "        self.width=width\n",
        "    def area(self):\n",
        "        return self.length*self.width\n",
        "    def perimeter(self):\n",
        "        return 2*(self.length+self.width)\n",
        "rectangle=Rectangle(5,2)\n",
        "print(\"Area:\",rectangle.area())\n",
        "print(\"Perimeter:\",rectangle.perimeter())"
      ],
      "metadata": {
        "colab": {
          "base_uri": "https://localhost:8080/"
        },
        "id": "vEUK044jS1HJ",
        "outputId": "fb24e675-7ee5-444e-82bc-328dfd196096"
      },
      "execution_count": 16,
      "outputs": [
        {
          "output_type": "stream",
          "name": "stdout",
          "text": [
            "Area: 10\n",
            "Perimeter: 14\n"
          ]
        }
      ]
    },
    {
      "cell_type": "code",
      "source": [
        "# Create a class Circle with attributes radius and methods to calculate area and circumference.\n",
        "class Circle:\n",
        "    def __init__(self, radius):\n",
        "        self.radius = radius\n",
        "\n",
        "    def calculate_area(self):\n",
        "        return 3.14159 * (self.radius ** 2)\n",
        "\n",
        "    def calculate_circumference(self):\n",
        "        return 2 * 3.14159 * self.radius\n",
        "circle = Circle(2)\n",
        "print(f\"Area: {circle.calculate_area()}\")\n",
        "print(f\"Circumference: {circle.calculate_circumference()}\")"
      ],
      "metadata": {
        "colab": {
          "base_uri": "https://localhost:8080/"
        },
        "id": "Jmu6W2YFTK9R",
        "outputId": "d3ce3c8e-73a6-47cf-adc9-580ced606506"
      },
      "execution_count": 18,
      "outputs": [
        {
          "output_type": "stream",
          "name": "stdout",
          "text": [
            "Area: 12.56636\n",
            "Circumference: 12.56636\n"
          ]
        }
      ]
    },
    {
      "cell_type": "code",
      "source": [
        "# Create a class Student with attributes name, roll_number, and marks. Implement a method to calculate the average marks.\n",
        "class Student:\n",
        "    def __init__(self, name, roll_number, marks):\n",
        "        self.name = name\n",
        "        self.roll_number = roll_number\n",
        "        self.marks = marks\n",
        "\n",
        "    def calculate_average(self):\n",
        "        return sum(self.marks) / len(self.marks)\n",
        "student = Student(\"Ahmed\",48, [85, 90, 78])\n",
        "print(f\"Student: {student.name}, Roll Number: {student.roll_number}, Average Marks: {student.calculate_average()}\")\n"
      ],
      "metadata": {
        "colab": {
          "base_uri": "https://localhost:8080/"
        },
        "id": "AMvsbBM8T9BM",
        "outputId": "c61decbc-cafe-4455-8c65-67fbded93ffb"
      },
      "execution_count": 22,
      "outputs": [
        {
          "output_type": "stream",
          "name": "stdout",
          "text": [
            "Student: Ahmed, Roll Number: 48, Average Marks: 84.33333333333333\n"
          ]
        }
      ]
    },
    {
      "cell_type": "code",
      "source": [
        "#Question 6\n",
        "#Create a class Book with attributes title, author, and publication_year.\n",
        "class Book:\n",
        "    def __init__(self,title,author,publication_year):\n",
        "        self.title=title\n",
        "        self.author=author\n",
        "        self.publication_year=publication_year\n",
        "my_book=Book('10 Habits of Highly Effective People ','A. I. Abana', 2016)\n",
        "print(my_book.title)\n",
        "print(my_book.author)\n",
        "print(my_book.publication_year)"
      ],
      "metadata": {
        "colab": {
          "base_uri": "https://localhost:8080/"
        },
        "id": "lB8FL9qiUg5O",
        "outputId": "98ebf5ec-3a9c-4385-c233-a5a3d8453196"
      },
      "execution_count": 21,
      "outputs": [
        {
          "output_type": "stream",
          "name": "stdout",
          "text": [
            "10 Habits of Highly Effective People \n",
            "A. I. Abana\n",
            "2016\n"
          ]
        }
      ]
    },
    {
      "cell_type": "code",
      "source": [
        "#Create a class Employee with attributes name, salary, and designation.\n",
        "class Employee:\n",
        "    def __init__(self,name,salary,designation):\n",
        "        self.name=name\n",
        "        self.salary=salary\n",
        "        self.designation=designation\n",
        "employee_1=Employee('Hamzah',200000,'seo')\n",
        "print(employee_1.name)\n",
        "print(employee_1.salary)\n",
        "print(employee_1.designation)"
      ],
      "metadata": {
        "colab": {
          "base_uri": "https://localhost:8080/"
        },
        "id": "DebT_AZqU_V5",
        "outputId": "85e572c4-0f13-4529-f79c-248b0c1447e2"
      },
      "execution_count": 23,
      "outputs": [
        {
          "output_type": "stream",
          "name": "stdout",
          "text": [
            "Hamzah\n",
            "200000\n",
            "seo\n"
          ]
        }
      ]
    },
    {
      "cell_type": "code",
      "source": [
        "#Create a class Bank with attributes name, account_number, and balance. Implement methods to deposit and withdraw money.\n",
        "class Bank:\n",
        "    def __init__(self, name, account_number, balance):\n",
        "        self.name = name\n",
        "        self.account_number = account_number\n",
        "        self.balance = balance\n",
        "\n",
        "    def deposit(self, amount):\n",
        "        self.balance += amount\n",
        "        print(f\"Deposited {amount}. New balance: {self.balance}.\")\n",
        "\n",
        "    def withdraw(self, amount):\n",
        "        if amount > self.balance:\n",
        "            print(\"Insufficient funds.\")\n",
        "        else:\n",
        "            self.balance -= amount\n",
        "            print(f\"Withdrew {amount}. New balance: {self.balance}.\")\n",
        "bank_account = Bank(\"Manha\", \"123456789\", 100000)\n",
        "bank_account.deposit(5000)\n",
        "bank_account.withdraw(1000)\n"
      ],
      "metadata": {
        "colab": {
          "base_uri": "https://localhost:8080/"
        },
        "id": "xx3WKrC9Vr0l",
        "outputId": "1a3bf26c-792d-4d00-9ee8-3bbf64a3e27b"
      },
      "execution_count": 26,
      "outputs": [
        {
          "output_type": "stream",
          "name": "stdout",
          "text": [
            "Deposited 5000. New balance: 105000.\n",
            "Withdrew 1000. New balance: 104000.\n"
          ]
        }
      ]
    },
    {
      "cell_type": "code",
      "source": [
        "# Create a class Shape with a method to calculate area. Create subclasses Circle, Rectangle, and Triangle that inherit from Shape and implement their specific area calculations.\n",
        "class Shape:\n",
        "    def calculate_area(self):\n",
        "        raise NotImplementedError(\"Subclasses must implement this method.\")\n",
        "\n",
        "class CircleShape(Shape):\n",
        "    def __init__(self, radius):\n",
        "        self.radius = radius\n",
        "\n",
        "    def calculate_area(self):\n",
        "        return 3.14159 * (self.radius ** 2)\n",
        "\n",
        "class Rectangle(Shape):\n",
        "    def __init__(self, width, height):\n",
        "        self.width = width\n",
        "        self.height = height\n",
        "\n",
        "    def calculate_area(self):\n",
        "        return self.width * self.height\n",
        "\n",
        "class Triangle(Shape):\n",
        "    def __init__(self, base, height):\n",
        "        self.base = base\n",
        "        self.height = height\n",
        "\n",
        "    def calculate_area(self):\n",
        "        return 0.5 * self.base * self.height\n",
        "circle_shape = CircleShape(7)\n",
        "print(f\"Circle Area: {circle_shape.calculate_area()}\")\n",
        "\n",
        "rectangle = Rectangle(4, 5)\n",
        "print(f\"Rectangle Area: {rectangle.calculate_area()}\")\n",
        "\n",
        "triangle = Triangle(6, 8)\n",
        "print(f\"Triangle Area: {triangle.calculate_area()}\")"
      ],
      "metadata": {
        "colab": {
          "base_uri": "https://localhost:8080/"
        },
        "id": "CiV09_13WH7G",
        "outputId": "7bc99c47-9a49-4fd2-a1b3-2dfe2b6845c2"
      },
      "execution_count": 27,
      "outputs": [
        {
          "output_type": "stream",
          "name": "stdout",
          "text": [
            "Circle Area: 153.93791\n",
            "Rectangle Area: 20\n",
            "Triangle Area: 24.0\n"
          ]
        }
      ]
    },
    {
      "cell_type": "code",
      "source": [
        "#Create a class Animal with attributes name and sound. Create subclasses Dog, Cat, and Cow that inherit from Animal and implement their specific sounds.\n",
        "class Animal:\n",
        "    def __init__(self, name, sound):\n",
        "        self.name = name\n",
        "        self.sound = sound\n",
        "\n",
        "    def make_sound(self):\n",
        "        return f\"{self.name} goes {self.sound}\"\n",
        "\n",
        "class Dog(Animal):\n",
        "    def __init__(self, name):\n",
        "        super().__init__(name, \"Woof\")\n",
        "\n",
        "class Cat(Animal):\n",
        "    def __init__(self, name):\n",
        "        super().__init__(name, \"Meow\")\n",
        "\n",
        "class Cow(Animal):\n",
        "    def __init__(self, name):\n",
        "        super().__init__(name, \"Moo\")\n",
        "dog = Dog(\"Bingo\")\n",
        "print(dog.make_sound())\n",
        "\n",
        "cat = Cat(\"Miko\")\n",
        "print(cat.make_sound())\n",
        "\n",
        "cow = Cow(\"Clarebelle\")\n",
        "print(cow.make_sound())"
      ],
      "metadata": {
        "colab": {
          "base_uri": "https://localhost:8080/"
        },
        "id": "rNwexul6WuJ6",
        "outputId": "928e91dc-3813-45b6-aecf-8826ca2c1a86"
      },
      "execution_count": 30,
      "outputs": [
        {
          "output_type": "stream",
          "name": "stdout",
          "text": [
            "Bingo goes Woof\n",
            "Miko goes Meow\n",
            "Clarebelle goes Moo\n"
          ]
        }
      ]
    },
    {
      "cell_type": "code",
      "source": [],
      "metadata": {
        "id": "ZH1MIPOaXfdS"
      },
      "execution_count": null,
      "outputs": []
    }
  ]
}