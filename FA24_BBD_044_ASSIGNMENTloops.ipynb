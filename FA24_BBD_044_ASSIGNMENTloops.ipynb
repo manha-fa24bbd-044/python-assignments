{
  "nbformat": 4,
  "nbformat_minor": 0,
  "metadata": {
    "colab": {
      "provenance": []
    },
    "kernelspec": {
      "name": "python3",
      "display_name": "Python 3"
    },
    "language_info": {
      "name": "python"
    }
  },
  "cells": [
    {
      "cell_type": "code",
      "source": [
        "#Print each character in a string: Write a for loop that takes a user-inputted string and prints each character on a new line.\n",
        "x=input(\"Enter a String :\")\n",
        "for y in x:\n",
        "    print (y)"
      ],
      "metadata": {
        "colab": {
          "base_uri": "https://localhost:8080/"
        },
        "id": "waRp58Rsi6Y1",
        "outputId": "7078955d-4a6b-4c6d-cd73-241fc41b98d7"
      },
      "execution_count": 54,
      "outputs": [
        {
          "output_type": "stream",
          "name": "stdout",
          "text": [
            "Enter a String :Manha\n",
            "M\n",
            "a\n",
            "n\n",
            "h\n",
            "a\n"
          ]
        }
      ]
    },
    {
      "cell_type": "code",
      "source": [
        "#. Print the first 10 natural numbers: Use a for loop to print numbers from 1 to 10.\n",
        "for x in range(1,11):\n",
        "    print(x)"
      ],
      "metadata": {
        "colab": {
          "base_uri": "https://localhost:8080/"
        },
        "id": "e0WAxTcKi-7X",
        "outputId": "a712b7fb-f6b7-40ce-d185-3d63e987ed49"
      },
      "execution_count": 55,
      "outputs": [
        {
          "output_type": "stream",
          "name": "stdout",
          "text": [
            "1\n",
            "2\n",
            "3\n",
            "4\n",
            "5\n",
            "6\n",
            "7\n",
            "8\n",
            "9\n",
            "10\n"
          ]
        }
      ]
    },
    {
      "cell_type": "code",
      "source": [
        "#. Sum of the first 20 natural numbers: Use a while loop to calculate and print the sum.\n",
        "x=1\n",
        "sum=0\n",
        "while x <= 20:\n",
        "    sum += x\n",
        "    x=x+1\n",
        "\n",
        "print(sum)\n",
        ""
      ],
      "metadata": {
        "colab": {
          "base_uri": "https://localhost:8080/"
        },
        "id": "1MwLylFJjFia",
        "outputId": "5b2011aa-e84d-4cc5-a204-e01613dcf75e"
      },
      "execution_count": 56,
      "outputs": [
        {
          "output_type": "stream",
          "name": "stdout",
          "text": [
            "210\n"
          ]
        }
      ]
    },
    {
      "cell_type": "code",
      "source": [
        "#Count down from a given number: Use a while loop to count down from a given number to 0.\n",
        "x=int(input('Enter any number : '))\n",
        "\n",
        "while x >= 0:\n",
        "    print(x)\n",
        "    x-=1"
      ],
      "metadata": {
        "colab": {
          "base_uri": "https://localhost:8080/"
        },
        "id": "Pz8xXAy_jNAy",
        "outputId": "4eeecec3-73ef-40bc-96e1-b9089e92f65d"
      },
      "execution_count": 59,
      "outputs": [
        {
          "output_type": "stream",
          "name": "stdout",
          "text": [
            "Enter any number : 8\n",
            "8\n",
            "7\n",
            "6\n",
            "5\n",
            "4\n",
            "3\n",
            "2\n",
            "1\n",
            "0\n"
          ]
        }
      ]
    },
    {
      "cell_type": "code",
      "source": [
        "#Even numbers in a range: Write a for loop to print all even numbers from 1 to 50.\n",
        "for x in range(0,51):\n",
        "   if x%2==0 :\n",
        "       print(x)"
      ],
      "metadata": {
        "colab": {
          "base_uri": "https://localhost:8080/"
        },
        "id": "llI6S4cijon5",
        "outputId": "4dd369cc-46a4-4dfe-e0ec-74bb8200725e"
      },
      "execution_count": 60,
      "outputs": [
        {
          "output_type": "stream",
          "name": "stdout",
          "text": [
            "0\n",
            "2\n",
            "4\n",
            "6\n",
            "8\n",
            "10\n",
            "12\n",
            "14\n",
            "16\n",
            "18\n",
            "20\n",
            "22\n",
            "24\n",
            "26\n",
            "28\n",
            "30\n",
            "32\n",
            "34\n",
            "36\n",
            "38\n",
            "40\n",
            "42\n",
            "44\n",
            "46\n",
            "48\n",
            "50\n"
          ]
        }
      ]
    },
    {
      "cell_type": "code",
      "source": [
        "#Print the multiplication table of a given number: Use a for loop to print the multiplication table of any number entered by the user (up to 10 times the number).\n",
        "x=int(input('Enter any Number : '))\n",
        "for y in range(1,11):\n",
        "    z=x*y\n",
        "    print(f'{x}*{y}={z}')"
      ],
      "metadata": {
        "colab": {
          "base_uri": "https://localhost:8080/"
        },
        "id": "n_BJ1dDvju5-",
        "outputId": "60a5fad0-f6d3-4f1c-c447-de35f4b3cdd2"
      },
      "execution_count": 61,
      "outputs": [
        {
          "output_type": "stream",
          "name": "stdout",
          "text": [
            "Enter any Number : 5\n",
            "5*1=5\n",
            "5*2=10\n",
            "5*3=15\n",
            "5*4=20\n",
            "5*5=25\n",
            "5*6=30\n",
            "5*7=35\n",
            "5*8=40\n",
            "5*9=45\n",
            "5*10=50\n"
          ]
        }
      ]
    },
    {
      "cell_type": "code",
      "source": [
        "#Find the factorial of a number: Use a while loop to calculate and print the factorial of a given positive integer.\n",
        "\n",
        "n=int(input('Enter any Number : '))\n",
        "f=1\n",
        "while n > 1:\n",
        "    f *= n\n",
        "    n -= 1\n",
        "print(f'the factorial of the number is {f}')"
      ],
      "metadata": {
        "colab": {
          "base_uri": "https://localhost:8080/"
        },
        "id": "ooJg9xdvj4z4",
        "outputId": "05221ce8-41b3-4bc1-a6ed-5470ba05c1a3"
      },
      "execution_count": 67,
      "outputs": [
        {
          "output_type": "stream",
          "name": "stdout",
          "text": [
            "Enter any Number : 5\n",
            "the factorial of the number is 120\n"
          ]
        }
      ]
    },
    {
      "cell_type": "code",
      "source": [
        "#. Sum of all odd numbers in a range: Use a for loop to find the sum of all odd numbers between two user-inputted numbers.\n",
        "\n",
        "x=int(input('Enter a Number : '))\n",
        "y=int(input('Enter a Number : '))\n",
        "sum=0\n",
        "\n",
        "for z in range(x,y):\n",
        "\n",
        "    if z %2 != 0:\n",
        "        sum +=z\n",
        "        z -=1\n",
        "print(sum)"
      ],
      "metadata": {
        "colab": {
          "base_uri": "https://localhost:8080/"
        },
        "id": "zoIic-C2kYAL",
        "outputId": "8f2cec59-6c7d-403a-bd54-f56e4e468e88"
      },
      "execution_count": 68,
      "outputs": [
        {
          "output_type": "stream",
          "name": "stdout",
          "text": [
            "Enter a Number : 3\n",
            "Enter a Number : 9\n",
            "15\n"
          ]
        }
      ]
    },
    {
      "cell_type": "code",
      "source": [
        "#. Display numbers divisible by 3 and 5: Use a for loop to display numbers between 1 and 100 that are divisible by both 3 and 5.\n",
        "for x in range(1,101):\n",
        "    if x%3 == 0 and x%5==0:\n",
        "        print(x)"
      ],
      "metadata": {
        "colab": {
          "base_uri": "https://localhost:8080/"
        },
        "id": "KabA4Zdmki_u",
        "outputId": "9007a6bb-2363-4f4b-c224-a52ae8d48040"
      },
      "execution_count": 69,
      "outputs": [
        {
          "output_type": "stream",
          "name": "stdout",
          "text": [
            "15\n",
            "30\n",
            "45\n",
            "60\n",
            "75\n",
            "90\n"
          ]
        }
      ]
    },
    {
      "cell_type": "code",
      "source": [
        "# . Fibonacci sequence: Use a while loop to print the Fibonacci sequence up to the 10th term.\n",
        "\n",
        "a=0\n",
        "b=1\n",
        "count=0\n",
        "while count< 10:\n",
        "    print(a)\n",
        "    a=b\n",
        "    b=a+b\n",
        "    count +=1"
      ],
      "metadata": {
        "colab": {
          "base_uri": "https://localhost:8080/"
        },
        "id": "bUpS63HzmCAz",
        "outputId": "f7580c23-3aa8-4d51-e581-969e43e22c9a"
      },
      "execution_count": 71,
      "outputs": [
        {
          "output_type": "stream",
          "name": "stdout",
          "text": [
            "0\n",
            "1\n",
            "2\n",
            "4\n",
            "8\n",
            "16\n",
            "32\n",
            "64\n",
            "128\n",
            "256\n"
          ]
        }
      ]
    },
    {
      "cell_type": "code",
      "source": [
        "#Guess the secret number game: Use a while loop to allow the user multiple chances to guess a predefined secret number, providing feedback if the guess is too high or too low.\n",
        "\n",
        "\n",
        "s_n=78\n",
        "x=0\n",
        "while s_n != x:\n",
        "    x=int(input('Enter a number :' ))\n",
        "    if x == s_n :\n",
        "        print('YAYY YOU GOT IT GURL')\n",
        "    elif x >= s_n:\n",
        "        print('Too High')\n",
        "    else:\n",
        "        print('Too Low')\n",
        ""
      ],
      "metadata": {
        "colab": {
          "base_uri": "https://localhost:8080/"
        },
        "id": "wPeY17AZmdRL",
        "outputId": "edeb947f-c5c3-42f2-dcab-edd8c3ae32b5"
      },
      "execution_count": 79,
      "outputs": [
        {
          "output_type": "stream",
          "name": "stdout",
          "text": [
            "Enter a number :65\n",
            "Too Low\n",
            "Enter a number :79\n",
            "Too High\n",
            "Enter a number :78\n",
            "YAYY YOU GOT IT GURL\n"
          ]
        }
      ]
    },
    {
      "cell_type": "code",
      "source": [
        "# Calculate compound interest for each year: Using a for loop, calculate and print the compound interest for each year up to 5 years for a given principal, rate, and time period.\n",
        "\n",
        "principal = float(input(\"Enter the principal amount: \"))\n",
        "rate = float(input(\"Enter the annual interest rate (in %): \")) / 100\n",
        "time = 5\n",
        "for yr in range(1, time+ 1):\n",
        "    amount = principal * (1 + rate) ** yr\n",
        "    ci = amount - principal\n",
        "    print(f\"Year {yr}: Compound Interest = {ci:.2f}\")"
      ],
      "metadata": {
        "colab": {
          "base_uri": "https://localhost:8080/"
        },
        "id": "FS8HDMllnpeo",
        "outputId": "a2408bfa-be1a-4e89-cf83-f7b02c4c40b2"
      },
      "execution_count": 80,
      "outputs": [
        {
          "output_type": "stream",
          "name": "stdout",
          "text": [
            "Enter the principal amount: 10000\n",
            "Enter the annual interest rate (in %): 10\n",
            "Year 1: Compound Interest = 1000.00\n",
            "Year 2: Compound Interest = 2100.00\n",
            "Year 3: Compound Interest = 3310.00\n",
            "Year 4: Compound Interest = 4641.00\n",
            "Year 5: Compound Interest = 6105.10\n"
          ]
        }
      ]
    },
    {
      "cell_type": "code",
      "source": [
        "# Reverse a string: Write a for loop to reverse a user-inputted string.\n",
        "\n",
        "string = input(\"Enter a string: \")\n",
        "Reversed = \"\"\n",
        "for char in string:\n",
        "    Reversed = char + Reversed\n",
        "print(f\"The reversed string is: {Reversed}\")"
      ],
      "metadata": {
        "colab": {
          "base_uri": "https://localhost:8080/"
        },
        "id": "z-3veVDXn6ri",
        "outputId": "510ef37f-c72e-4456-9248-a4f2efaad964"
      },
      "execution_count": 89,
      "outputs": [
        {
          "output_type": "stream",
          "name": "stdout",
          "text": [
            "Enter a string: the weeknd\n",
            "The reversed string is: dnkeew eht\n"
          ]
        }
      ]
    },
    {
      "cell_type": "code",
      "source": [
        "# Find the minimum and maximum in a list: Take a list of numbers from the user and use a for loop to find the minimum and maximum values in the list.\n",
        "\n",
        "x = input(\"Enter a list of numbers, separated by spaces: \")\n",
        "numbers = [int(num) for num in x.split()]\n",
        "min = numbers[0]\n",
        "max = numbers[0]\n",
        "for num in numbers:\n",
        "    if num < min:\n",
        "        min = num\n",
        "    if num > max:\n",
        "        max = num\n",
        "print(f\"The minimum value is: {min}\")\n",
        "print(f\"The maximum value is: {max}\")"
      ],
      "metadata": {
        "colab": {
          "base_uri": "https://localhost:8080/"
        },
        "id": "HrkdOdhroayA",
        "outputId": "5d4a8b87-72ee-478f-c3dd-a42fdfb10a06"
      },
      "execution_count": 90,
      "outputs": [
        {
          "output_type": "stream",
          "name": "stdout",
          "text": [
            "Enter a list of numbers, separated by spaces: 1 2 3\n",
            "The minimum value is: 1\n",
            "The maximum value is: 3\n"
          ]
        }
      ]
    },
    {
      "cell_type": "code",
      "source": [
        "# Identify prime numbers in a range: Use a for loop to identify and print all prime numbers between 10 and 50.\n",
        "\n",
        "for num in range(10, 51):\n",
        "    prime = True\n",
        "    for i in range(2, num):\n",
        "        if num % i == 0:\n",
        "            prime = False\n",
        "            break\n",
        "    if prime and num > 1:\n",
        "        print(num)"
      ],
      "metadata": {
        "colab": {
          "base_uri": "https://localhost:8080/"
        },
        "id": "cZ6eqp87o_MK",
        "outputId": "01ef963b-46e7-4d34-af67-d8faad4602ba"
      },
      "execution_count": 91,
      "outputs": [
        {
          "output_type": "stream",
          "name": "stdout",
          "text": [
            "11\n",
            "13\n",
            "17\n",
            "19\n",
            "23\n",
            "29\n",
            "31\n",
            "37\n",
            "41\n",
            "43\n",
            "47\n"
          ]
        }
      ]
    },
    {
      "cell_type": "code",
      "source": [
        "# Check if a number is a palindrome: Write a while loop to check if a given integer is a palindrome (the same forwards and backwards).\n",
        "num = int(input(\"Enter a number to check if it's a palindrome: \"))\n",
        "num_str = str(num)\n",
        "if num_str == num_str[::-1]:\n",
        "    print(f\"{num} is a palindrome!\")\n",
        "else:\n",
        "    print(f\"{num} is not a palindrome.\")"
      ],
      "metadata": {
        "colab": {
          "base_uri": "https://localhost:8080/"
        },
        "id": "Rd55-YGGpFxg",
        "outputId": "5bbbd262-3fd5-47a8-d2e4-0c5de638d505"
      },
      "execution_count": 92,
      "outputs": [
        {
          "output_type": "stream",
          "name": "stdout",
          "text": [
            "Enter a number to check if it's a palindrome: 10\n",
            "10 is not a palindrome.\n"
          ]
        }
      ]
    },
    {
      "cell_type": "code",
      "source": [
        "start = 10\n",
        "end = 50\n",
        "\n",
        "# Loop through each number in the range\n",
        "for num in range(start, end + 1):\n",
        "    if num > 1:\n",
        "        # Check if number is prime\n",
        "        for i in range(2, int(num ** 0.5) + 1):\n",
        "            if (num % i) == 0:\n",
        "                break\n",
        "        else:\n",
        "\n",
        "            print(num)\n",
        "start = 10\n",
        "end = 50\n",
        "for num in range(start, end + 1):\n",
        "    if num > 1:\n",
        "        for i in range(2, int(num ** 0.5) + 1):\n",
        "            if (num % i) == 0:\n",
        "                break\n",
        "        else:\n",
        "            print(num)"
      ],
      "metadata": {
        "colab": {
          "base_uri": "https://localhost:8080/"
        },
        "id": "1hGMomU8pKGW",
        "outputId": "a2f304a2-c826-4e2e-806a-d0e5928f6f43"
      },
      "execution_count": 94,
      "outputs": [
        {
          "output_type": "stream",
          "name": "stdout",
          "text": [
            "11\n",
            "13\n",
            "17\n",
            "19\n",
            "23\n",
            "29\n",
            "31\n",
            "37\n",
            "41\n",
            "43\n",
            "47\n",
            "11\n",
            "13\n",
            "17\n",
            "19\n",
            "23\n",
            "29\n",
            "31\n",
            "37\n",
            "41\n",
            "43\n",
            "47\n"
          ]
        }
      ]
    },
    {
      "cell_type": "code",
      "source": [],
      "metadata": {
        "id": "-GP6m3yfpRAc"
      },
      "execution_count": null,
      "outputs": []
    }
  ]
}